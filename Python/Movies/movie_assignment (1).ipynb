{
 "cells": [
  {
   "cell_type": "code",
   "execution_count": 4,
   "id": "1dbdb319-1e29-4b7b-8e34-b4b1878772cc",
   "metadata": {},
   "outputs": [],
   "source": [
    "import pandas as pd\n",
    "\n",
    "actor = pd.read_csv('actor.csv')\n",
    "cast = pd.read_csv('cast.csv')\n",
    "director = pd.read_csv('director.csv')\n",
    "genres = pd.read_csv('genres.csv')\n",
    "mdir = pd.read_csv('movie_direction.csv')\n",
    "mgen = pd.read_csv('movie_genres.csv')\n",
    "movie = pd.read_csv('movie.csv')\n",
    "ratings = pd.read_csv('ratings.csv')\n",
    "rev = pd.read_csv('reviewer.csv')"
   ]
  },
  {
   "cell_type": "markdown",
   "id": "3cd81fd6-cc7d-4f6d-912d-5aab157f9e93",
   "metadata": {},
   "source": [
    "##### Find when the movie 'American Beauty' released. Return movie release year"
   ]
  },
  {
   "cell_type": "code",
   "execution_count": 5,
   "id": "39327fb1-dea1-4c0c-bc27-cbb5b9857c8f",
   "metadata": {},
   "outputs": [
    {
     "data": {
      "text/html": [
       "<div>\n",
       "<style scoped>\n",
       "    .dataframe tbody tr th:only-of-type {\n",
       "        vertical-align: middle;\n",
       "    }\n",
       "\n",
       "    .dataframe tbody tr th {\n",
       "        vertical-align: top;\n",
       "    }\n",
       "\n",
       "    .dataframe thead th {\n",
       "        text-align: right;\n",
       "    }\n",
       "</style>\n",
       "<table border=\"1\" class=\"dataframe\">\n",
       "  <thead>\n",
       "    <tr style=\"text-align: right;\">\n",
       "      <th></th>\n",
       "      <th>mov_year</th>\n",
       "    </tr>\n",
       "  </thead>\n",
       "  <tbody>\n",
       "    <tr>\n",
       "      <th>13</th>\n",
       "      <td>1999</td>\n",
       "    </tr>\n",
       "  </tbody>\n",
       "</table>\n",
       "</div>"
      ],
      "text/plain": [
       "    mov_year\n",
       "13      1999"
      ]
     },
     "execution_count": 5,
     "metadata": {},
     "output_type": "execute_result"
    }
   ],
   "source": [
    "movie[movie.mov_title == 'American Beauty'][['mov_year']]"
   ]
  },
  {
   "cell_type": "markdown",
   "id": "d42e1120-71c5-493b-9390-eddafe54110e",
   "metadata": {},
   "source": [
    "##### Find those movies, which were released before 1998. Return movie title."
   ]
  },
  {
   "cell_type": "code",
   "execution_count": 6,
   "id": "19fa15d4-f5bf-419c-ad55-eda6a5d5fdde",
   "metadata": {},
   "outputs": [
    {
     "data": {
      "text/html": [
       "<div>\n",
       "<style scoped>\n",
       "    .dataframe tbody tr th:only-of-type {\n",
       "        vertical-align: middle;\n",
       "    }\n",
       "\n",
       "    .dataframe tbody tr th {\n",
       "        vertical-align: top;\n",
       "    }\n",
       "\n",
       "    .dataframe thead th {\n",
       "        text-align: right;\n",
       "    }\n",
       "</style>\n",
       "<table border=\"1\" class=\"dataframe\">\n",
       "  <thead>\n",
       "    <tr style=\"text-align: right;\">\n",
       "      <th></th>\n",
       "      <th>mov_title</th>\n",
       "    </tr>\n",
       "  </thead>\n",
       "  <tbody>\n",
       "    <tr>\n",
       "      <th>0</th>\n",
       "      <td>Vertigo</td>\n",
       "    </tr>\n",
       "    <tr>\n",
       "      <th>1</th>\n",
       "      <td>The Innocents</td>\n",
       "    </tr>\n",
       "    <tr>\n",
       "      <th>2</th>\n",
       "      <td>Lawrence of Arabia</td>\n",
       "    </tr>\n",
       "    <tr>\n",
       "      <th>3</th>\n",
       "      <td>The Deer Hunter</td>\n",
       "    </tr>\n",
       "    <tr>\n",
       "      <th>4</th>\n",
       "      <td>Amadeus</td>\n",
       "    </tr>\n",
       "    <tr>\n",
       "      <th>5</th>\n",
       "      <td>Blade Runner</td>\n",
       "    </tr>\n",
       "    <tr>\n",
       "      <th>7</th>\n",
       "      <td>The Usual Suspects</td>\n",
       "    </tr>\n",
       "    <tr>\n",
       "      <th>8</th>\n",
       "      <td>Chinatown</td>\n",
       "    </tr>\n",
       "    <tr>\n",
       "      <th>9</th>\n",
       "      <td>Boogie Nights</td>\n",
       "    </tr>\n",
       "    <tr>\n",
       "      <th>10</th>\n",
       "      <td>Annie Hall</td>\n",
       "    </tr>\n",
       "    <tr>\n",
       "      <th>11</th>\n",
       "      <td>Princess Mononoke</td>\n",
       "    </tr>\n",
       "    <tr>\n",
       "      <th>12</th>\n",
       "      <td>The Shawshank Redemption</td>\n",
       "    </tr>\n",
       "    <tr>\n",
       "      <th>14</th>\n",
       "      <td>Titanic</td>\n",
       "    </tr>\n",
       "    <tr>\n",
       "      <th>15</th>\n",
       "      <td>Good Will Hunting</td>\n",
       "    </tr>\n",
       "    <tr>\n",
       "      <th>16</th>\n",
       "      <td>Deliverance</td>\n",
       "    </tr>\n",
       "    <tr>\n",
       "      <th>17</th>\n",
       "      <td>Trainspotting</td>\n",
       "    </tr>\n",
       "    <tr>\n",
       "      <th>21</th>\n",
       "      <td>Aliens</td>\n",
       "    </tr>\n",
       "    <tr>\n",
       "      <th>24</th>\n",
       "      <td>Seven Samurai</td>\n",
       "    </tr>\n",
       "    <tr>\n",
       "      <th>26</th>\n",
       "      <td>Back to the Future</td>\n",
       "    </tr>\n",
       "    <tr>\n",
       "      <th>27</th>\n",
       "      <td>Braveheart</td>\n",
       "    </tr>\n",
       "  </tbody>\n",
       "</table>\n",
       "</div>"
      ],
      "text/plain": [
       "                   mov_title\n",
       "0                    Vertigo\n",
       "1              The Innocents\n",
       "2         Lawrence of Arabia\n",
       "3            The Deer Hunter\n",
       "4                    Amadeus\n",
       "5               Blade Runner\n",
       "7         The Usual Suspects\n",
       "8                  Chinatown\n",
       "9              Boogie Nights\n",
       "10                Annie Hall\n",
       "11         Princess Mononoke\n",
       "12  The Shawshank Redemption\n",
       "14                   Titanic\n",
       "15         Good Will Hunting\n",
       "16               Deliverance\n",
       "17             Trainspotting\n",
       "21                    Aliens\n",
       "24             Seven Samurai\n",
       "26        Back to the Future\n",
       "27                Braveheart"
      ]
     },
     "execution_count": 6,
     "metadata": {},
     "output_type": "execute_result"
    }
   ],
   "source": [
    "movie[movie.mov_year < 1998][['mov_title']]"
   ]
  },
  {
   "cell_type": "markdown",
   "id": "ffe871f4-fdcb-4052-a997-6f9facc8ab3f",
   "metadata": {},
   "source": [
    "##### Return all the data of the movies which were released after 1995 and their movie duration was greater than 120"
   ]
  },
  {
   "cell_type": "code",
   "execution_count": 7,
   "id": "791f7793-6064-4201-aa86-5e0d9d37ec6a",
   "metadata": {},
   "outputs": [
    {
     "data": {
      "text/html": [
       "<div>\n",
       "<style scoped>\n",
       "    .dataframe tbody tr th:only-of-type {\n",
       "        vertical-align: middle;\n",
       "    }\n",
       "\n",
       "    .dataframe tbody tr th {\n",
       "        vertical-align: top;\n",
       "    }\n",
       "\n",
       "    .dataframe thead th {\n",
       "        text-align: right;\n",
       "    }\n",
       "</style>\n",
       "<table border=\"1\" class=\"dataframe\">\n",
       "  <thead>\n",
       "    <tr style=\"text-align: right;\">\n",
       "      <th></th>\n",
       "      <th>mov_id</th>\n",
       "      <th>mov_title</th>\n",
       "      <th>mov_year</th>\n",
       "      <th>mov_time</th>\n",
       "      <th>mov_lang</th>\n",
       "      <th>mov_dt_rel</th>\n",
       "      <th>mov_rel_country</th>\n",
       "    </tr>\n",
       "  </thead>\n",
       "  <tbody>\n",
       "    <tr>\n",
       "      <th>6</th>\n",
       "      <td>907</td>\n",
       "      <td>Eyes Wide Shut</td>\n",
       "      <td>1999</td>\n",
       "      <td>159</td>\n",
       "      <td>English</td>\n",
       "      <td>NaN</td>\n",
       "      <td>UK</td>\n",
       "    </tr>\n",
       "    <tr>\n",
       "      <th>9</th>\n",
       "      <td>910</td>\n",
       "      <td>Boogie Nights</td>\n",
       "      <td>1997</td>\n",
       "      <td>155</td>\n",
       "      <td>English</td>\n",
       "      <td>2/16/1998</td>\n",
       "      <td>UK</td>\n",
       "    </tr>\n",
       "    <tr>\n",
       "      <th>11</th>\n",
       "      <td>912</td>\n",
       "      <td>Princess Mononoke</td>\n",
       "      <td>1997</td>\n",
       "      <td>134</td>\n",
       "      <td>Japanese</td>\n",
       "      <td>10/19/2001</td>\n",
       "      <td>UK</td>\n",
       "    </tr>\n",
       "    <tr>\n",
       "      <th>13</th>\n",
       "      <td>914</td>\n",
       "      <td>American Beauty</td>\n",
       "      <td>1999</td>\n",
       "      <td>122</td>\n",
       "      <td>English</td>\n",
       "      <td>NaN</td>\n",
       "      <td>UK</td>\n",
       "    </tr>\n",
       "    <tr>\n",
       "      <th>14</th>\n",
       "      <td>915</td>\n",
       "      <td>Titanic</td>\n",
       "      <td>1997</td>\n",
       "      <td>194</td>\n",
       "      <td>English</td>\n",
       "      <td>1/23/1998</td>\n",
       "      <td>UK</td>\n",
       "    </tr>\n",
       "    <tr>\n",
       "      <th>15</th>\n",
       "      <td>916</td>\n",
       "      <td>Good Will Hunting</td>\n",
       "      <td>1997</td>\n",
       "      <td>126</td>\n",
       "      <td>English</td>\n",
       "      <td>6/3/1998</td>\n",
       "      <td>UK</td>\n",
       "    </tr>\n",
       "    <tr>\n",
       "      <th>18</th>\n",
       "      <td>919</td>\n",
       "      <td>The Prestige</td>\n",
       "      <td>2006</td>\n",
       "      <td>130</td>\n",
       "      <td>English</td>\n",
       "      <td>11/10/2006</td>\n",
       "      <td>UK</td>\n",
       "    </tr>\n",
       "    <tr>\n",
       "      <th>23</th>\n",
       "      <td>924</td>\n",
       "      <td>Avatar</td>\n",
       "      <td>2009</td>\n",
       "      <td>162</td>\n",
       "      <td>English</td>\n",
       "      <td>12/17/2009</td>\n",
       "      <td>UK</td>\n",
       "    </tr>\n",
       "    <tr>\n",
       "      <th>25</th>\n",
       "      <td>927</td>\n",
       "      <td>Spirited Away</td>\n",
       "      <td>2001</td>\n",
       "      <td>125</td>\n",
       "      <td>Japanese</td>\n",
       "      <td>9/12/2003</td>\n",
       "      <td>UK</td>\n",
       "    </tr>\n",
       "  </tbody>\n",
       "</table>\n",
       "</div>"
      ],
      "text/plain": [
       "    mov_id          mov_title  mov_year  mov_time  mov_lang  mov_dt_rel  \\\n",
       "6      907     Eyes Wide Shut      1999       159   English         NaN   \n",
       "9      910      Boogie Nights      1997       155   English   2/16/1998   \n",
       "11     912  Princess Mononoke      1997       134  Japanese  10/19/2001   \n",
       "13     914    American Beauty      1999       122   English         NaN   \n",
       "14     915            Titanic      1997       194   English   1/23/1998   \n",
       "15     916  Good Will Hunting      1997       126   English    6/3/1998   \n",
       "18     919       The Prestige      2006       130   English  11/10/2006   \n",
       "23     924             Avatar      2009       162   English  12/17/2009   \n",
       "25     927      Spirited Away      2001       125  Japanese   9/12/2003   \n",
       "\n",
       "   mov_rel_country  \n",
       "6               UK  \n",
       "9               UK  \n",
       "11              UK  \n",
       "13              UK  \n",
       "14              UK  \n",
       "15              UK  \n",
       "18              UK  \n",
       "23              UK  \n",
       "25              UK  "
      ]
     },
     "execution_count": 7,
     "metadata": {},
     "output_type": "execute_result"
    }
   ],
   "source": [
    "movie[(movie.mov_year>1995)&(movie.mov_time>120)]"
   ]
  },
  {
   "cell_type": "markdown",
   "id": "d0d30661-a12c-4cf3-85e3-b95a4b8e793c",
   "metadata": {},
   "source": [
    "##### Determine the Top 7 movies which were released in United Kingdom. Sort the data in ascending order of the movie year"
   ]
  },
  {
   "cell_type": "code",
   "execution_count": null,
   "id": "5cdec334-6bec-4918-a24d-42ba7427885e",
   "metadata": {},
   "outputs": [],
   "source": [
    "movie[movie.mov_rel_country == 'UK'].sort_values('mov_year').head(7)"
   ]
  },
  {
   "cell_type": "markdown",
   "id": "9de0d629-9ec3-42fb-9167-69c02a7db654",
   "metadata": {},
   "source": [
    "##### Set the language of movie language as 'Chinese' for the movie which has its existing language as Japanese and the movie year was 2001"
   ]
  },
  {
   "cell_type": "code",
   "execution_count": 45,
   "id": "5735c072-eb58-4af0-a8bd-6706b524de50",
   "metadata": {},
   "outputs": [],
   "source": [
    "movie.loc[(movie.mov_lang=='Japanese')&(movie.mov_year==2001),['mov_lang']] = 'Chinese'"
   ]
  },
  {
   "cell_type": "markdown",
   "id": "3b7f2760-6fa4-49bc-9987-ed5ac07f15d1",
   "metadata": {},
   "source": [
    "##### Find name of all the reviewers who rated the movie 'Slumdog Millionaire'"
   ]
  },
  {
   "cell_type": "code",
   "execution_count": null,
   "id": "48ba5aa0-aacf-41cd-a045-c3aa4dccf7b1",
   "metadata": {},
   "outputs": [],
   "source": [
    "k = pd.merge(movie,ratings,on='mov_id')\n",
    "m = pd.merge(k,rev,on='rev_id')\n",
    "m[m.mov_title=='Slumdog Millionaire'][['rev_name']]"
   ]
  },
  {
   "cell_type": "markdown",
   "id": "70b8189b-0244-4c9f-b75a-0a8be566a690",
   "metadata": {},
   "source": [
    "##### Fetch the first name, last name & role played by the actor where output should all exclude Male actors"
   ]
  },
  {
   "cell_type": "code",
   "execution_count": null,
   "id": "b0029d86-e3d8-4516-889a-2f246de01b8d",
   "metadata": {},
   "outputs": [],
   "source": [
    "a = pd.merge(actor,cast,on='act_id')\n",
    "a[a.act_gender!='M'][['act_fname','act_lname','role']]"
   ]
  },
  {
   "cell_type": "markdown",
   "id": "31963683-0d77-4e30-9815-f60f98163206",
   "metadata": {},
   "source": [
    "##### Find the actors who played a role in the movie 'Annie Hall'. Fetch all the fields of actor table"
   ]
  },
  {
   "cell_type": "code",
   "execution_count": null,
   "id": "b74ac6b6-046f-4a3d-9f3c-eda3d3905ddd",
   "metadata": {},
   "outputs": [],
   "source": [
    "q = pd.merge(actor,cast,on='act_id')\n",
    "r = pd.merge(q,movie,on='mov_id')\n",
    "r[r.mov_title=='Annie Hall']"
   ]
  },
  {
   "cell_type": "markdown",
   "id": "3dc29da5-9d56-489f-8555-4c3143811cfb",
   "metadata": {},
   "source": [
    "##### Find those movies that have been released in countries other than the United Kingdom. Return movie title, movie year, movie time, and date of release, releasing country"
   ]
  },
  {
   "cell_type": "code",
   "execution_count": null,
   "id": "b16d1917-641c-4ad9-951c-19d28b178441",
   "metadata": {},
   "outputs": [],
   "source": [
    "movie[movie.mov_rel_country!='UK'].drop(columns=['mov_id','mov_lang'])"
   ]
  },
  {
   "cell_type": "markdown",
   "id": "b62884a8-bbb9-455c-8ad6-b2d209d48b36",
   "metadata": {},
   "source": [
    "##### Print genre title, maximum movie duration and the count the number of movies in each genre"
   ]
  },
  {
   "cell_type": "code",
   "execution_count": null,
   "id": "c1f3e95c-d973-4215-bd7b-b5be9fc81dbd",
   "metadata": {},
   "outputs": [],
   "source": [
    "d = pd.merge(genres,mgen,on='gen_id')\n",
    "e = pd.merge(d,movie,on='mov_id')\n",
    "f = e.groupby('gen_title').mov_time.max().reset_index()\n",
    "g = e.gen_title.value_counts().reset_index()\n",
    "h = pd.merge(f,g,on='gen_title')\n",
    "h"
   ]
  },
  {
   "cell_type": "markdown",
   "id": "bbe39925-2c7a-4fb0-8202-114b6e7b45a2",
   "metadata": {},
   "source": [
    "##### Create a view which should contain the first name, last name, title of the movie & role played by particular actor"
   ]
  },
  {
   "cell_type": "code",
   "execution_count": null,
   "id": "06b25c51-a63c-49c7-a132-bfc811850f17",
   "metadata": {},
   "outputs": [],
   "source": [
    "b = pd.merge(actor,cast,on='act_id')\n",
    "c = pd.merge(b,movie,on='mov_id')\n",
    "view = c[['act_fname','act_lname','role','mov_title']]\n",
    "view"
   ]
  },
  {
   "cell_type": "markdown",
   "id": "5c1ff55d-a5ce-4d03-a3e1-ae94221e2625",
   "metadata": {},
   "source": [
    "##### Find the movies with the lowest ratings"
   ]
  },
  {
   "cell_type": "code",
   "execution_count": 1,
   "id": "3abbf9e9-894f-4581-97d2-47cff3807932",
   "metadata": {},
   "outputs": [
    {
     "ename": "NameError",
     "evalue": "name 'pd' is not defined",
     "output_type": "error",
     "traceback": [
      "\u001b[1;31m---------------------------------------------------------------------------\u001b[0m",
      "\u001b[1;31mNameError\u001b[0m                                 Traceback (most recent call last)",
      "Cell \u001b[1;32mIn[1], line 1\u001b[0m\n\u001b[1;32m----> 1\u001b[0m s \u001b[38;5;241m=\u001b[39m pd\u001b[38;5;241m.\u001b[39mmerge(movie,ratings,on\u001b[38;5;241m=\u001b[39m\u001b[38;5;124m'\u001b[39m\u001b[38;5;124mmov_id\u001b[39m\u001b[38;5;124m'\u001b[39m)\n\u001b[0;32m      2\u001b[0m t \u001b[38;5;241m=\u001b[39m s[\u001b[38;5;241m~\u001b[39ms\u001b[38;5;241m.\u001b[39mnum_o_ratings\u001b[38;5;241m.\u001b[39misnull()]\n\u001b[0;32m      3\u001b[0m u \u001b[38;5;241m=\u001b[39m t[t\u001b[38;5;241m.\u001b[39mnum_o_ratings\u001b[38;5;241m==\u001b[39mt\u001b[38;5;241m.\u001b[39mnum_o_ratings\u001b[38;5;241m.\u001b[39mmin()]\n",
      "\u001b[1;31mNameError\u001b[0m: name 'pd' is not defined"
     ]
    }
   ],
   "source": [
    "s = pd.merge(movie,ratings,on='mov_id')\n",
    "t = s[~s.num_o_ratings.isnull()]\n",
    "u = t[t.num_o_ratings==t.num_o_ratings.min()]\n",
    "u"
   ]
  },
  {
   "cell_type": "code",
   "execution_count": null,
   "id": "466edeaa-a007-471b-bd3e-2b7bce44205f",
   "metadata": {},
   "outputs": [],
   "source": []
  }
 ],
 "metadata": {
  "kernelspec": {
   "display_name": "Python 3 (ipykernel)",
   "language": "python",
   "name": "python3"
  },
  "language_info": {
   "codemirror_mode": {
    "name": "ipython",
    "version": 3
   },
   "file_extension": ".py",
   "mimetype": "text/x-python",
   "name": "python",
   "nbconvert_exporter": "python",
   "pygments_lexer": "ipython3",
   "version": "3.12.7"
  }
 },
 "nbformat": 4,
 "nbformat_minor": 5
}
