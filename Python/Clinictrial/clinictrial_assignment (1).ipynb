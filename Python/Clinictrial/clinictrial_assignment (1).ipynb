{
 "cells": [
  {
   "cell_type": "code",
   "execution_count": 1,
   "id": "abefec39-3745-48e7-97ab-b9a611efe9c4",
   "metadata": {},
   "outputs": [],
   "source": [
    "import pandas as pd"
   ]
  },
  {
   "cell_type": "code",
   "execution_count": 2,
   "id": "b14f99e6-7d64-4c75-9bfa-eb766ded4703",
   "metadata": {},
   "outputs": [],
   "source": [
    "data = pd.read_csv(r\"C:\\Users\\tharu\\Desktop\\clinictrial.csv\")"
   ]
  },
  {
   "cell_type": "code",
   "execution_count": 3,
   "id": "158b79ec-fbae-45c8-8a76-592972ee581c",
   "metadata": {},
   "outputs": [
    {
     "data": {
      "text/html": [
       "<div>\n",
       "<style scoped>\n",
       "    .dataframe tbody tr th:only-of-type {\n",
       "        vertical-align: middle;\n",
       "    }\n",
       "\n",
       "    .dataframe tbody tr th {\n",
       "        vertical-align: top;\n",
       "    }\n",
       "\n",
       "    .dataframe thead th {\n",
       "        text-align: right;\n",
       "    }\n",
       "</style>\n",
       "<table border=\"1\" class=\"dataframe\">\n",
       "  <thead>\n",
       "    <tr style=\"text-align: right;\">\n",
       "      <th></th>\n",
       "      <th>Name</th>\n",
       "      <th>BP</th>\n",
       "      <th>Chlstrl</th>\n",
       "      <th>Age</th>\n",
       "      <th>Pregnant</th>\n",
       "      <th>Anxty_LH</th>\n",
       "      <th>Drug_Reaction</th>\n",
       "    </tr>\n",
       "  </thead>\n",
       "  <tbody>\n",
       "    <tr>\n",
       "      <th>0</th>\n",
       "      <td>Jenny</td>\n",
       "      <td>100</td>\n",
       "      <td>150</td>\n",
       "      <td>20</td>\n",
       "      <td>no</td>\n",
       "      <td>no</td>\n",
       "      <td>no</td>\n",
       "    </tr>\n",
       "    <tr>\n",
       "      <th>1</th>\n",
       "      <td>Mary</td>\n",
       "      <td>120</td>\n",
       "      <td>160</td>\n",
       "      <td>16</td>\n",
       "      <td>no</td>\n",
       "      <td>no</td>\n",
       "      <td>no</td>\n",
       "    </tr>\n",
       "    <tr>\n",
       "      <th>2</th>\n",
       "      <td>Anita</td>\n",
       "      <td>110</td>\n",
       "      <td>150</td>\n",
       "      <td>18</td>\n",
       "      <td>no</td>\n",
       "      <td>no</td>\n",
       "      <td>no</td>\n",
       "    </tr>\n",
       "    <tr>\n",
       "      <th>3</th>\n",
       "      <td>Kavita</td>\n",
       "      <td>100</td>\n",
       "      <td>175</td>\n",
       "      <td>25</td>\n",
       "      <td>no</td>\n",
       "      <td>no</td>\n",
       "      <td>no</td>\n",
       "    </tr>\n",
       "    <tr>\n",
       "      <th>4</th>\n",
       "      <td>Dolly</td>\n",
       "      <td>95</td>\n",
       "      <td>250</td>\n",
       "      <td>36</td>\n",
       "      <td>no</td>\n",
       "      <td>no</td>\n",
       "      <td>no</td>\n",
       "    </tr>\n",
       "    <tr>\n",
       "      <th>5</th>\n",
       "      <td>Rashmi</td>\n",
       "      <td>110</td>\n",
       "      <td>200</td>\n",
       "      <td>56</td>\n",
       "      <td>no</td>\n",
       "      <td>yes</td>\n",
       "      <td>no</td>\n",
       "    </tr>\n",
       "    <tr>\n",
       "      <th>6</th>\n",
       "      <td>Aditi</td>\n",
       "      <td>120</td>\n",
       "      <td>180</td>\n",
       "      <td>59</td>\n",
       "      <td>no</td>\n",
       "      <td>yes</td>\n",
       "      <td>no</td>\n",
       "    </tr>\n",
       "    <tr>\n",
       "      <th>7</th>\n",
       "      <td>Simaran</td>\n",
       "      <td>150</td>\n",
       "      <td>175</td>\n",
       "      <td>45</td>\n",
       "      <td>no</td>\n",
       "      <td>yes</td>\n",
       "      <td>no</td>\n",
       "    </tr>\n",
       "    <tr>\n",
       "      <th>8</th>\n",
       "      <td>Bhavika</td>\n",
       "      <td>160</td>\n",
       "      <td>185</td>\n",
       "      <td>40</td>\n",
       "      <td>no</td>\n",
       "      <td>yes</td>\n",
       "      <td>no</td>\n",
       "    </tr>\n",
       "    <tr>\n",
       "      <th>9</th>\n",
       "      <td>Deepti</td>\n",
       "      <td>125</td>\n",
       "      <td>195</td>\n",
       "      <td>20</td>\n",
       "      <td>yes</td>\n",
       "      <td>no</td>\n",
       "      <td>no</td>\n",
       "    </tr>\n",
       "    <tr>\n",
       "      <th>10</th>\n",
       "      <td>Reetika</td>\n",
       "      <td>135</td>\n",
       "      <td>190</td>\n",
       "      <td>18</td>\n",
       "      <td>yes</td>\n",
       "      <td>no</td>\n",
       "      <td>no</td>\n",
       "    </tr>\n",
       "    <tr>\n",
       "      <th>11</th>\n",
       "      <td>Tina</td>\n",
       "      <td>165</td>\n",
       "      <td>200</td>\n",
       "      <td>25</td>\n",
       "      <td>yes</td>\n",
       "      <td>no</td>\n",
       "      <td>no</td>\n",
       "    </tr>\n",
       "    <tr>\n",
       "      <th>12</th>\n",
       "      <td>Meena</td>\n",
       "      <td>145</td>\n",
       "      <td>175</td>\n",
       "      <td>30</td>\n",
       "      <td>yes</td>\n",
       "      <td>no</td>\n",
       "      <td>no</td>\n",
       "    </tr>\n",
       "    <tr>\n",
       "      <th>13</th>\n",
       "      <td>Reena</td>\n",
       "      <td>120</td>\n",
       "      <td>180</td>\n",
       "      <td>28</td>\n",
       "      <td>yes</td>\n",
       "      <td>no</td>\n",
       "      <td>no</td>\n",
       "    </tr>\n",
       "    <tr>\n",
       "      <th>14</th>\n",
       "      <td>Bhawana</td>\n",
       "      <td>100</td>\n",
       "      <td>180</td>\n",
       "      <td>21</td>\n",
       "      <td>yes</td>\n",
       "      <td>no</td>\n",
       "      <td>no</td>\n",
       "    </tr>\n",
       "    <tr>\n",
       "      <th>15</th>\n",
       "      <td>Jennifer</td>\n",
       "      <td>100</td>\n",
       "      <td>160</td>\n",
       "      <td>19</td>\n",
       "      <td>yes</td>\n",
       "      <td>no</td>\n",
       "      <td>yes</td>\n",
       "    </tr>\n",
       "    <tr>\n",
       "      <th>16</th>\n",
       "      <td>Kimberley</td>\n",
       "      <td>95</td>\n",
       "      <td>250</td>\n",
       "      <td>18</td>\n",
       "      <td>yes</td>\n",
       "      <td>no</td>\n",
       "      <td>yes</td>\n",
       "    </tr>\n",
       "    <tr>\n",
       "      <th>17</th>\n",
       "      <td>Soma</td>\n",
       "      <td>120</td>\n",
       "      <td>200</td>\n",
       "      <td>30</td>\n",
       "      <td>yes</td>\n",
       "      <td>no</td>\n",
       "      <td>yes</td>\n",
       "    </tr>\n",
       "    <tr>\n",
       "      <th>18</th>\n",
       "      <td>Aadhya</td>\n",
       "      <td>125</td>\n",
       "      <td>240</td>\n",
       "      <td>29</td>\n",
       "      <td>yes</td>\n",
       "      <td>no</td>\n",
       "      <td>yes</td>\n",
       "    </tr>\n",
       "    <tr>\n",
       "      <th>19</th>\n",
       "      <td>Aanya</td>\n",
       "      <td>130</td>\n",
       "      <td>172</td>\n",
       "      <td>30</td>\n",
       "      <td>yes</td>\n",
       "      <td>no</td>\n",
       "      <td>yes</td>\n",
       "    </tr>\n",
       "    <tr>\n",
       "      <th>20</th>\n",
       "      <td>Brinda</td>\n",
       "      <td>120</td>\n",
       "      <td>130</td>\n",
       "      <td>35</td>\n",
       "      <td>yes</td>\n",
       "      <td>yes</td>\n",
       "      <td>yes</td>\n",
       "    </tr>\n",
       "    <tr>\n",
       "      <th>21</th>\n",
       "      <td>Chhaya</td>\n",
       "      <td>120</td>\n",
       "      <td>140</td>\n",
       "      <td>38</td>\n",
       "      <td>yes</td>\n",
       "      <td>yes</td>\n",
       "      <td>yes</td>\n",
       "    </tr>\n",
       "    <tr>\n",
       "      <th>22</th>\n",
       "      <td>Eshika</td>\n",
       "      <td>125</td>\n",
       "      <td>160</td>\n",
       "      <td>32</td>\n",
       "      <td>yes</td>\n",
       "      <td>yes</td>\n",
       "      <td>yes</td>\n",
       "    </tr>\n",
       "    <tr>\n",
       "      <th>23</th>\n",
       "      <td>Ela</td>\n",
       "      <td>115</td>\n",
       "      <td>185</td>\n",
       "      <td>40</td>\n",
       "      <td>yes</td>\n",
       "      <td>yes</td>\n",
       "      <td>yes</td>\n",
       "    </tr>\n",
       "    <tr>\n",
       "      <th>24</th>\n",
       "      <td>Hiral</td>\n",
       "      <td>150</td>\n",
       "      <td>195</td>\n",
       "      <td>65</td>\n",
       "      <td>no</td>\n",
       "      <td>yes</td>\n",
       "      <td>yes</td>\n",
       "    </tr>\n",
       "    <tr>\n",
       "      <th>25</th>\n",
       "      <td>Gulika</td>\n",
       "      <td>130</td>\n",
       "      <td>175</td>\n",
       "      <td>72</td>\n",
       "      <td>no</td>\n",
       "      <td>yes</td>\n",
       "      <td>yes</td>\n",
       "    </tr>\n",
       "    <tr>\n",
       "      <th>26</th>\n",
       "      <td>Kalki</td>\n",
       "      <td>170</td>\n",
       "      <td>200</td>\n",
       "      <td>56</td>\n",
       "      <td>no</td>\n",
       "      <td>yes</td>\n",
       "      <td>yes</td>\n",
       "    </tr>\n",
       "    <tr>\n",
       "      <th>27</th>\n",
       "      <td>Laasya</td>\n",
       "      <td>145</td>\n",
       "      <td>210</td>\n",
       "      <td>58</td>\n",
       "      <td>no</td>\n",
       "      <td>yes</td>\n",
       "      <td>yes</td>\n",
       "    </tr>\n",
       "    <tr>\n",
       "      <th>28</th>\n",
       "      <td>Mihika</td>\n",
       "      <td>180</td>\n",
       "      <td>200</td>\n",
       "      <td>81</td>\n",
       "      <td>no</td>\n",
       "      <td>yes</td>\n",
       "      <td>yes</td>\n",
       "    </tr>\n",
       "    <tr>\n",
       "      <th>29</th>\n",
       "      <td>Pihu</td>\n",
       "      <td>140</td>\n",
       "      <td>190</td>\n",
       "      <td>73</td>\n",
       "      <td>no</td>\n",
       "      <td>yes</td>\n",
       "      <td>yes</td>\n",
       "    </tr>\n",
       "  </tbody>\n",
       "</table>\n",
       "</div>"
      ],
      "text/plain": [
       "         Name   BP  Chlstrl  Age Pregnant Anxty_LH Drug_Reaction\n",
       "0       Jenny  100      150   20       no       no            no\n",
       "1        Mary  120      160   16       no       no            no\n",
       "2       Anita  110      150   18       no       no            no\n",
       "3      Kavita  100      175   25       no       no            no\n",
       "4       Dolly   95      250   36       no       no            no\n",
       "5      Rashmi  110      200   56       no      yes            no\n",
       "6       Aditi  120      180   59       no      yes            no\n",
       "7     Simaran  150      175   45       no      yes            no\n",
       "8     Bhavika  160      185   40       no      yes            no\n",
       "9      Deepti  125      195   20      yes       no            no\n",
       "10    Reetika  135      190   18      yes       no            no\n",
       "11       Tina  165      200   25      yes       no            no\n",
       "12      Meena  145      175   30      yes       no            no\n",
       "13      Reena  120      180   28      yes       no            no\n",
       "14    Bhawana  100      180   21      yes       no            no\n",
       "15   Jennifer  100      160   19      yes       no           yes\n",
       "16  Kimberley   95      250   18      yes       no           yes\n",
       "17       Soma  120      200   30      yes       no           yes\n",
       "18     Aadhya  125      240   29      yes       no           yes\n",
       "19      Aanya  130      172   30      yes       no           yes\n",
       "20     Brinda  120      130   35      yes      yes           yes\n",
       "21     Chhaya  120      140   38      yes      yes           yes\n",
       "22     Eshika  125      160   32      yes      yes           yes\n",
       "23        Ela  115      185   40      yes      yes           yes\n",
       "24      Hiral  150      195   65       no      yes           yes\n",
       "25     Gulika  130      175   72       no      yes           yes\n",
       "26      Kalki  170      200   56       no      yes           yes\n",
       "27     Laasya  145      210   58       no      yes           yes\n",
       "28     Mihika  180      200   81       no      yes           yes\n",
       "29       Pihu  140      190   73       no      yes           yes"
      ]
     },
     "execution_count": 3,
     "metadata": {},
     "output_type": "execute_result"
    }
   ],
   "source": [
    "data"
   ]
  },
  {
   "cell_type": "markdown",
   "id": "8fa4f691-ab2d-4543-be25-6b9d9b50a051",
   "metadata": {},
   "source": [
    "##### Find the average age"
   ]
  },
  {
   "cell_type": "code",
   "execution_count": null,
   "id": "dd13808f-c2a9-45aa-8a4e-5d092aa38c8d",
   "metadata": {},
   "outputs": [],
   "source": [
    "data.Age.mean()"
   ]
  },
  {
   "cell_type": "markdown",
   "id": "69e81a63-9162-498c-bfdf-421055a1aa37",
   "metadata": {},
   "source": [
    "##### Find the min age"
   ]
  },
  {
   "cell_type": "code",
   "execution_count": null,
   "id": "8eaa799f-fe21-48c0-a0cd-fc6a5a989ca7",
   "metadata": {},
   "outputs": [],
   "source": [
    "data.Age.min()"
   ]
  },
  {
   "cell_type": "markdown",
   "id": "af826270-a606-4e1b-8f73-274ac64534ab",
   "metadata": {},
   "source": [
    "##### Find the max age"
   ]
  },
  {
   "cell_type": "code",
   "execution_count": null,
   "id": "bd821592-3f19-4ef1-907a-94f409467a61",
   "metadata": {},
   "outputs": [],
   "source": [
    "data.Age.max()"
   ]
  },
  {
   "cell_type": "markdown",
   "id": "2c5cb405-2ffa-4a81-b8cb-2996799a4462",
   "metadata": {},
   "source": [
    "##### Find the average age of those who are pregnant and not pregnant"
   ]
  },
  {
   "cell_type": "code",
   "execution_count": null,
   "id": "f70ec6d8-f115-4320-b979-ff5d400bfac0",
   "metadata": {},
   "outputs": [],
   "source": [
    "data.groupby('Pregnant').Age.mean()"
   ]
  },
  {
   "cell_type": "markdown",
   "id": "22a64495-3379-4cd4-9b46-db2a7678a2ec",
   "metadata": {},
   "source": [
    "##### Find average blood pressure of those had drug reaction and did not had drug reaction"
   ]
  },
  {
   "cell_type": "code",
   "execution_count": null,
   "id": "b77e4cb6-7249-491e-9300-90ac2906521d",
   "metadata": {},
   "outputs": [],
   "source": [
    "data.groupby('Drug_Reaction').BP.mean()"
   ]
  },
  {
   "cell_type": "markdown",
   "id": "c8090fc1-9192-4896-877f-595649918587",
   "metadata": {},
   "source": [
    "##### Add new column name as ‘Age_group’ and those having age between 16 & 21 should be categorized as Low, more than 21 and less than 35 should be categorized as Middle and above 35 should be categorized as High"
   ]
  },
  {
   "cell_type": "code",
   "execution_count": 13,
   "id": "8096418e-3063-4745-9cf5-404d1c6e287d",
   "metadata": {},
   "outputs": [],
   "source": [
    "data['Age_group']=data.Age.apply(lambda x:'High' if x>=35 else 'Middle' if x>=21 else 'Low')"
   ]
  },
  {
   "cell_type": "markdown",
   "id": "25598ae6-38ed-4097-a484-938a6291b28b",
   "metadata": {},
   "source": [
    "##### Change ‘Age’ of Reetika to 32"
   ]
  },
  {
   "cell_type": "code",
   "execution_count": 44,
   "id": "c426e8ed-0766-48e7-8e97-0b2b05664bc1",
   "metadata": {},
   "outputs": [],
   "source": [
    "data.loc[data.Name == 'Reetika',['Age']]=32"
   ]
  },
  {
   "cell_type": "markdown",
   "id": "c61e7735-6f3d-44aa-907d-5b6eaca0c9c8",
   "metadata": {},
   "source": [
    "##### Change name of Reena as Shara"
   ]
  },
  {
   "cell_type": "code",
   "execution_count": 50,
   "id": "381e5ad3-43a8-4df2-bc2f-d1b00a5dac48",
   "metadata": {},
   "outputs": [],
   "source": [
    "data.loc[data.Name == 'Reena',['Name']]='Shara'"
   ]
  },
  {
   "cell_type": "markdown",
   "id": "57a6eac2-e554-4ff6-84fe-b21aa6a3d1a1",
   "metadata": {},
   "source": [
    "##### Remove Chlstrl column"
   ]
  },
  {
   "cell_type": "code",
   "execution_count": 54,
   "id": "12c4516e-d3ba-4a45-9b60-6b20593952de",
   "metadata": {},
   "outputs": [],
   "source": [
    "data.drop(columns='Chlstrl',inplace=True)"
   ]
  },
  {
   "cell_type": "markdown",
   "id": "60d28ae0-9bc4-4d2c-b937-e6d171bbc9cf",
   "metadata": {},
   "source": [
    "##### Select only Name, Age and BP"
   ]
  },
  {
   "cell_type": "code",
   "execution_count": null,
   "id": "90289fc8-ba7b-4f04-887f-b460d1899152",
   "metadata": {},
   "outputs": [],
   "source": [
    "data[['Name','Age','BP']]"
   ]
  },
  {
   "cell_type": "markdown",
   "id": "b47b8891-909f-4ffb-8409-184d392ba0c1",
   "metadata": {},
   "source": [
    "##### Select ladies whose first name starts with ‘E’"
   ]
  },
  {
   "cell_type": "code",
   "execution_count": null,
   "id": "e74dd7ba-1b7f-4dfd-8a86-2b3605a477cc",
   "metadata": {},
   "outputs": [],
   "source": [
    "data[data.Name.apply(lambda x: True if x[0]=='E' else False)]"
   ]
  },
  {
   "cell_type": "markdown",
   "id": "27713c08-6b4e-4d61-9954-78aea03347f1",
   "metadata": {},
   "source": [
    "##### Select ladies whose Age_group were Low"
   ]
  },
  {
   "cell_type": "code",
   "execution_count": null,
   "id": "e6fbc69a-5e40-4b0d-be93-063d579f408c",
   "metadata": {},
   "outputs": [],
   "source": [
    "data[data.Age_group == 'Low']"
   ]
  },
  {
   "cell_type": "markdown",
   "id": "06f52d18-4b43-4223-85f1-bede2152ec79",
   "metadata": {},
   "source": [
    "##### Select ladies whose Age_group were High"
   ]
  },
  {
   "cell_type": "code",
   "execution_count": null,
   "id": "64e77516-5066-4cca-94c8-27c9d164a2b3",
   "metadata": {},
   "outputs": [],
   "source": [
    "data[data.Age_group == 'High']"
   ]
  },
  {
   "cell_type": "markdown",
   "id": "0c4d6e44-4d41-4543-b0cb-6ecfa2f54d59",
   "metadata": {},
   "source": [
    "##### Select ladies whose name starts with ‘A’ and those were pregnant"
   ]
  },
  {
   "cell_type": "code",
   "execution_count": null,
   "id": "510296e4-08b2-46be-ae2b-2fc17a8090a6",
   "metadata": {},
   "outputs": [],
   "source": [
    "data[(data.Name.apply(lambda x: True if x[0]=='A' else False))&(data.Pregnant=='yes')]"
   ]
  },
  {
   "cell_type": "markdown",
   "id": "67598215-6283-41a6-b22e-5ef5782e5e9b",
   "metadata": {},
   "source": [
    "##### Identify ladies whose BP was more than 120"
   ]
  },
  {
   "cell_type": "code",
   "execution_count": null,
   "id": "b4444967-a113-4354-8448-34077660a4c7",
   "metadata": {},
   "outputs": [],
   "source": [
    "data[data.BP>120]"
   ]
  },
  {
   "cell_type": "markdown",
   "id": "25d10d87-7979-4809-83f2-a854a877213a",
   "metadata": {},
   "source": [
    "##### Identify ladies whose BP was between 100 and 120"
   ]
  },
  {
   "cell_type": "code",
   "execution_count": null,
   "id": "f77db0fb-b8cb-446a-add2-4fdec71d0d7f",
   "metadata": {},
   "outputs": [],
   "source": [
    "data[(data.BP>=100)&(data.BP<=120)]"
   ]
  },
  {
   "cell_type": "markdown",
   "id": "7ad8c2f8-634b-4d3b-88d6-6abdb696e057",
   "metadata": {},
   "source": [
    "##### Identify ladies who had low anxiety aged less than 30"
   ]
  },
  {
   "cell_type": "code",
   "execution_count": null,
   "id": "bf7c1ef9-8389-4de0-898f-46d60de01ecf",
   "metadata": {},
   "outputs": [],
   "source": [
    "data[(data.Anxty_LH == 'no')&(data.Age<30)]"
   ]
  },
  {
   "cell_type": "markdown",
   "id": "b42bf423-a475-45a6-8402-919c9871ec0e",
   "metadata": {},
   "source": [
    "##### Select ladies whose name ends with 'i'"
   ]
  },
  {
   "cell_type": "code",
   "execution_count": null,
   "id": "b8feb3b3-d9ca-46ca-97e9-9a3a824fc3c0",
   "metadata": {},
   "outputs": [],
   "source": [
    "data[data.Name.apply(lambda x: True if x[-1]=='i' else False)]"
   ]
  },
  {
   "cell_type": "markdown",
   "id": "0029bb97-4a1d-4d7f-ae1e-91ddfe551881",
   "metadata": {},
   "source": [
    "##### Select ladies whose name ends with ‘a’"
   ]
  },
  {
   "cell_type": "code",
   "execution_count": null,
   "id": "57cfd1c3-edfc-45e7-96ae-765ef4558155",
   "metadata": {},
   "outputs": [],
   "source": [
    "data[data.Name.apply(lambda x: True if x[-1]=='a' else False)]"
   ]
  },
  {
   "cell_type": "markdown",
   "id": "7bbcac4e-af93-4e69-a281-3557f003219d",
   "metadata": {},
   "source": [
    "##### Select ladies whose name starts with ‘K’"
   ]
  },
  {
   "cell_type": "code",
   "execution_count": null,
   "id": "b20e4279-a704-4e0d-804f-32206a17d02f",
   "metadata": {},
   "outputs": [],
   "source": [
    "data[data.Name.apply(lambda x: True if x[0]=='K' else False)]"
   ]
  },
  {
   "cell_type": "markdown",
   "id": "a7ffdccc-8ea1-4caa-af57-5854e3a38b4a",
   "metadata": {},
   "source": [
    "##### Select ladies whose name have ‘a’ anywhere"
   ]
  },
  {
   "cell_type": "code",
   "execution_count": null,
   "id": "41355de4-da95-443d-b71c-fb846f6efd21",
   "metadata": {},
   "outputs": [],
   "source": [
    "data[data.Name.apply(lambda x: True if 'a' in x.lower() else False)]"
   ]
  },
  {
   "cell_type": "markdown",
   "id": "b72dd21b-b13f-4bef-a60c-ee07abdab23a",
   "metadata": {},
   "source": [
    "##### Order ladies in ascending way based on ‘BP’"
   ]
  },
  {
   "cell_type": "code",
   "execution_count": null,
   "id": "4e6b25d7-47a6-488e-baf0-661741adc924",
   "metadata": {},
   "outputs": [],
   "source": [
    "data.sort_values(by='BP')"
   ]
  },
  {
   "cell_type": "markdown",
   "id": "cd983916-2ea0-458d-812e-0bb6efc498d1",
   "metadata": {},
   "source": [
    "##### Order ladies in descending way based on ‘Age’"
   ]
  },
  {
   "cell_type": "code",
   "execution_count": null,
   "id": "0d63f2e7-8eae-4035-b6b2-aacf16360119",
   "metadata": {},
   "outputs": [],
   "source": [
    "data.sort_values(by='Age',ascending=False)"
   ]
  }
 ],
 "metadata": {
  "kernelspec": {
   "display_name": "Python 3 (ipykernel)",
   "language": "python",
   "name": "python3"
  },
  "language_info": {
   "codemirror_mode": {
    "name": "ipython",
    "version": 3
   },
   "file_extension": ".py",
   "mimetype": "text/x-python",
   "name": "python",
   "nbconvert_exporter": "python",
   "pygments_lexer": "ipython3",
   "version": "3.12.7"
  }
 },
 "nbformat": 4,
 "nbformat_minor": 5
}
